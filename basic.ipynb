{
 "cells": [
  {
   "cell_type": "code",
   "execution_count": 5,
   "id": "beb26f36-4bed-4cf9-a031-92b7b246ccaf",
   "metadata": {},
   "outputs": [
    {
     "name": "stdout",
     "output_type": "stream",
     "text": [
      "hello world\n"
     ]
    }
   ],
   "source": [
    "print(\"hello world\");"
   ]
  },
  {
   "cell_type": "code",
   "execution_count": 28,
   "id": "0a122847-11ec-4409-81e3-87038df39df8",
   "metadata": {},
   "outputs": [
    {
     "name": "stdin",
     "output_type": "stream",
     "text": [
      "enter a number: 6\n"
     ]
    },
    {
     "name": "stdout",
     "output_type": "stream",
     "text": [
      "6\n"
     ]
    }
   ],
   "source": [
    "a=(int(input(\"enter a number:\")))\n",
    "print(a);"
   ]
  },
  {
   "cell_type": "code",
   "execution_count": 26,
   "id": "de944dae-95ba-4311-b337-98c74a5bd124",
   "metadata": {},
   "outputs": [
    {
     "name": "stdout",
     "output_type": "stream",
     "text": [
      "salman khan\n"
     ]
    }
   ],
   "source": [
    "print(\"salman khan\")"
   ]
  },
  {
   "cell_type": "code",
   "execution_count": 30,
   "id": "ae1401ba-ef58-44c0-9775-7e9ba2a1c410",
   "metadata": {},
   "outputs": [
    {
     "name": "stdout",
     "output_type": "stream",
     "text": [
      "7\n"
     ]
    }
   ],
   "source": [
    "print(7)"
   ]
  },
  {
   "cell_type": "code",
   "execution_count": 32,
   "id": "5c03e664-3ea3-479d-9012-4100d37c61ee",
   "metadata": {},
   "outputs": [
    {
     "name": "stdout",
     "output_type": "stream",
     "text": [
      "25.3\n"
     ]
    }
   ],
   "source": [
    "print(25.3)"
   ]
  },
  {
   "cell_type": "code",
   "execution_count": 34,
   "id": "31037d58-5dab-4cf2-95aa-b175b1206c2e",
   "metadata": {},
   "outputs": [
    {
     "name": "stdout",
     "output_type": "stream",
     "text": [
      "True\n"
     ]
    }
   ],
   "source": [
    "print(True)"
   ]
  },
  {
   "cell_type": "code",
   "execution_count": 43,
   "id": "f42a5298-86ca-478f-8dc7-479974306f90",
   "metadata": {},
   "outputs": [
    {
     "name": "stdout",
     "output_type": "stream",
     "text": [
      "hello 2 4.8 False\n"
     ]
    }
   ],
   "source": [
    "print(\"hello\" ,2,4.8,False)"
   ]
  },
  {
   "cell_type": "code",
   "execution_count": 45,
   "id": "a9251501-59df-47b9-9cc6-42978edc826c",
   "metadata": {},
   "outputs": [
    {
     "name": "stdout",
     "output_type": "stream",
     "text": [
      "hello/2/4.8/False\n"
     ]
    }
   ],
   "source": [
    "print(\"hello\" ,2,4.8,False, sep=\"/\")   #sep=seperaator"
   ]
  },
  {
   "cell_type": "code",
   "execution_count": 47,
   "id": "659740c9-6d39-4bb9-87cd-a8708f74c7da",
   "metadata": {},
   "outputs": [
    {
     "name": "stdout",
     "output_type": "stream",
     "text": [
      "hello\n",
      "world\n"
     ]
    }
   ],
   "source": [
    "print(\"hello\")\n",
    "print(\"world\")"
   ]
  },
  {
   "cell_type": "code",
   "execution_count": 49,
   "id": "ae926dd7-853d-4066-9b0d-d47cdb379f16",
   "metadata": {},
   "outputs": [
    {
     "name": "stdout",
     "output_type": "stream",
     "text": [
      "hello-world\n"
     ]
    }
   ],
   "source": [
    "print(\"hello\",end=\"-\")\n",
    "print(\"world\")"
   ]
  },
  {
   "cell_type": "markdown",
   "id": "95f25ac6-521d-4601-81ce-c70696293bb4",
   "metadata": {},
   "source": [
    "# datatypes"
   ]
  },
  {
   "cell_type": "code",
   "execution_count": 57,
   "id": "cb2a3a47-68ce-4edb-80d8-a74de73c357e",
   "metadata": {},
   "outputs": [
    {
     "name": "stdout",
     "output_type": "stream",
     "text": [
      "8 4.2 True hello world (6+5j)\n"
     ]
    }
   ],
   "source": [
    "# integer\n",
    "# float\n",
    "# boolean\n",
    "# String\n",
    "# complex number\n",
    "print(8,4.2,True,\"hello world\", 6+5j)\n"
   ]
  },
  {
   "cell_type": "code",
   "execution_count": 59,
   "id": "48219728-b126-4aef-af15-290422dd9038",
   "metadata": {},
   "outputs": [
    {
     "name": "stdout",
     "output_type": "stream",
     "text": [
      "[1, 2, 3, 4]\n"
     ]
    }
   ],
   "source": [
    "#list\n",
    "print([1,2,3,4])"
   ]
  },
  {
   "cell_type": "code",
   "execution_count": 63,
   "id": "8c53b7e2-2619-4a46-a1b7-c4957f60cb05",
   "metadata": {},
   "outputs": [
    {
     "name": "stdout",
     "output_type": "stream",
     "text": [
      "(4, 6, 3)\n"
     ]
    }
   ],
   "source": [
    "#tuple\n",
    "print((4,6,3))"
   ]
  },
  {
   "cell_type": "code",
   "execution_count": 65,
   "id": "f41ecf09-b6cc-4e46-94d2-6a0d9d6aa17e",
   "metadata": {},
   "outputs": [
    {
     "name": "stdout",
     "output_type": "stream",
     "text": [
      "{1, 4, 5, 23}\n"
     ]
    }
   ],
   "source": [
    "#sets\n",
    "print({1,23,4,5})"
   ]
  },
  {
   "cell_type": "code",
   "execution_count": 67,
   "id": "06cba979-ee6c-4273-b180-46b707f6c2ac",
   "metadata": {},
   "outputs": [
    {
     "name": "stdout",
     "output_type": "stream",
     "text": [
      "{'name': 'Danish'}\n"
     ]
    }
   ],
   "source": [
    "# Dictionary\n",
    "print({'name':'Danish'})"
   ]
  },
  {
   "cell_type": "markdown",
   "id": "24a1a906-99e3-421e-b0b7-70a9e6fbed50",
   "metadata": {},
   "source": [
    "# type function()"
   ]
  },
  {
   "cell_type": "code",
   "execution_count": 70,
   "id": "3ac86d9d-6f23-4f22-810b-717a004cac42",
   "metadata": {},
   "outputs": [
    {
     "data": {
      "text/plain": [
       "int"
      ]
     },
     "execution_count": 70,
     "metadata": {},
     "output_type": "execute_result"
    }
   ],
   "source": [
    "type(3)"
   ]
  },
  {
   "cell_type": "code",
   "execution_count": 72,
   "id": "e1fb765f-a68a-43d9-87ea-797c10f05671",
   "metadata": {},
   "outputs": [
    {
     "data": {
      "text/plain": [
       "float"
      ]
     },
     "execution_count": 72,
     "metadata": {},
     "output_type": "execute_result"
    }
   ],
   "source": [
    "type(3.2)"
   ]
  },
  {
   "cell_type": "code",
   "execution_count": 74,
   "id": "423deeaa-12fc-4917-89ec-58596e6df185",
   "metadata": {},
   "outputs": [
    {
     "data": {
      "text/plain": [
       "list"
      ]
     },
     "execution_count": 74,
     "metadata": {},
     "output_type": "execute_result"
    }
   ],
   "source": [
    "type([1,2,3])"
   ]
  },
  {
   "cell_type": "markdown",
   "id": "23b99d97-2b8b-45b4-8961-a468c27376b6",
   "metadata": {},
   "source": [
    "# variables"
   ]
  },
  {
   "cell_type": "code",
   "execution_count": 79,
   "id": "ea42da0f-0318-4561-bbcd-630fdb2cf550",
   "metadata": {},
   "outputs": [
    {
     "name": "stdout",
     "output_type": "stream",
     "text": [
      "danish\n"
     ]
    },
    {
     "data": {
      "text/plain": [
       "str"
      ]
     },
     "execution_count": 79,
     "metadata": {},
     "output_type": "execute_result"
    }
   ],
   "source": [
    "name=\"danish\"\n",
    "print(name)\n",
    "type(name)"
   ]
  },
  {
   "cell_type": "code",
   "execution_count": 81,
   "id": "ebd82edb-f610-466c-81f1-d0989ea34797",
   "metadata": {},
   "outputs": [
    {
     "name": "stdout",
     "output_type": "stream",
     "text": [
      "10.5\n"
     ]
    }
   ],
   "source": [
    "a=5.5\n",
    "b=5\n",
    "print(a+b)"
   ]
  },
  {
   "cell_type": "code",
   "execution_count": 84,
   "id": "5a12ff75-4f15-4e71-899a-510ca0d9573a",
   "metadata": {},
   "outputs": [],
   "source": [
    "#Dynamic typing\n",
    "# a=4\n",
    "#static typing\n",
    "#int a =5;"
   ]
  },
  {
   "cell_type": "code",
   "execution_count": 86,
   "id": "9136e04a-bf74-415f-95d4-c25b728b343f",
   "metadata": {},
   "outputs": [
    {
     "name": "stdout",
     "output_type": "stream",
     "text": [
      "5\n",
      "Dhanya\n"
     ]
    }
   ],
   "source": [
    "# Dynamic Binding\n",
    "a=5;\n",
    "print(a);\n",
    "a=\"Dhanya\"\n",
    "print(a)"
   ]
  },
  {
   "cell_type": "code",
   "execution_count": 88,
   "id": "e38a7012-90f6-4195-9b06-17c09160d081",
   "metadata": {},
   "outputs": [
    {
     "name": "stdout",
     "output_type": "stream",
     "text": [
      "1 2 3\n"
     ]
    }
   ],
   "source": [
    "a,b,c=1,2,3\n",
    "print(a,b,c)"
   ]
  },
  {
   "cell_type": "code",
   "execution_count": 90,
   "id": "f847c561-a732-40a4-a361-8ab915f67d5e",
   "metadata": {},
   "outputs": [
    {
     "name": "stdout",
     "output_type": "stream",
     "text": [
      "5 5 5\n"
     ]
    }
   ],
   "source": [
    "a=b=c=5\n",
    "print(a,b,c)"
   ]
  },
  {
   "cell_type": "markdown",
   "id": "8869c6ac-3b9a-4108-9a5d-a79e218dc164",
   "metadata": {},
   "source": [
    "# input method"
   ]
  },
  {
   "cell_type": "code",
   "execution_count": 4,
   "id": "f7a40d8f-c03b-4efe-a9a8-f76ee50d4b44",
   "metadata": {},
   "outputs": [
    {
     "name": "stdin",
     "output_type": "stream",
     "text": [
      "apna naam bata: Danish\n"
     ]
    },
    {
     "name": "stdout",
     "output_type": "stream",
     "text": [
      "Danish\n"
     ]
    }
   ],
   "source": [
    "c=input('apna naam bata:')\n",
    "print(c)"
   ]
  },
  {
   "cell_type": "code",
   "execution_count": 12,
   "id": "e3eceb95-f291-44a3-a43f-65b9c00cd51a",
   "metadata": {},
   "outputs": [
    {
     "name": "stdin",
     "output_type": "stream",
     "text": [
      "enter the 1st number: 25\n",
      "enter the 2nd number: 25\n"
     ]
    },
    {
     "name": "stdout",
     "output_type": "stream",
     "text": [
      "the sum is: 50\n"
     ]
    }
   ],
   "source": [
    "# write a program to add two numbers \n",
    "c=int(input(\"enter the 1st number:\")) #type conversion\n",
    "b=int(input(\"enter the 2nd number:\"))\n",
    "d=c+b\n",
    "print(\"the sum is:\", d)"
   ]
  },
  {
   "cell_type": "code",
   "execution_count": 16,
   "id": "ae715214-68eb-4884-a36f-153ee2f18804",
   "metadata": {},
   "outputs": [
    {
     "name": "stdin",
     "output_type": "stream",
     "text": [
      "enter the 1st number: 25\n",
      "enter the 2nd number: 25\n"
     ]
    },
    {
     "name": "stdout",
     "output_type": "stream",
     "text": [
      "the sum is: 2525\n"
     ]
    }
   ],
   "source": [
    "c=str(input(\"enter the 1st number:\")) #type conversion\n",
    "b=str(input(\"enter the 2nd number:\"))\n",
    "d=c+b\n",
    "print(\"the sum is:\", d)"
   ]
  },
  {
   "cell_type": "code",
   "execution_count": 18,
   "id": "8a973d93-4107-4d8e-9e59-8f56b3e785ed",
   "metadata": {},
   "outputs": [
    {
     "name": "stdout",
     "output_type": "stream",
     "text": [
      "None\n"
     ]
    }
   ],
   "source": [
    "# literal\n",
    "a=None\n",
    "print(a)"
   ]
  },
  {
   "cell_type": "markdown",
   "id": "245b9c6e-7f46-49de-87b0-17aa0bae5169",
   "metadata": {},
   "source": [
    "# operators"
   ]
  },
  {
   "cell_type": "code",
   "execution_count": 23,
   "id": "8921ba10-2ea5-437a-b28c-a1189a2fbc49",
   "metadata": {},
   "outputs": [],
   "source": [
    "# arithmetic operators"
   ]
  },
  {
   "cell_type": "code",
   "execution_count": 27,
   "id": "1be8228e-207b-4027-8e18-e4b65d938392",
   "metadata": {},
   "outputs": [
    {
     "name": "stdout",
     "output_type": "stream",
     "text": [
      "11\n",
      "6\n",
      "25\n",
      "2.5\n",
      "2\n",
      "1\n",
      "125\n"
     ]
    }
   ],
   "source": [
    "#  +,-,*,/,%\n",
    "print(5+6)\n",
    "print(9-3)\n",
    "print(5*5)\n",
    "print(5/2)\n",
    "print(5//2)  #integer division \n",
    "print(7%2)\n",
    "print(5**3) #power "
   ]
  },
  {
   "cell_type": "code",
   "execution_count": 29,
   "id": "4f69b5a4-694b-44c8-a1a3-bac5a8a93f6c",
   "metadata": {},
   "outputs": [
    {
     "name": "stdout",
     "output_type": "stream",
     "text": [
      "False\n",
      "True\n",
      "True\n",
      "False\n",
      "True\n",
      "True\n"
     ]
    }
   ],
   "source": [
    "# Relational operators\n",
    "print(4>5)\n",
    "print(4<5)\n",
    "print(5>=5)\n",
    "print(4<=2)\n",
    "print(6==6)\n",
    "print(27!=24)"
   ]
  },
  {
   "cell_type": "code",
   "execution_count": 33,
   "id": "0ef1c737-9f50-4f1e-b30a-e7eabe1df354",
   "metadata": {},
   "outputs": [
    {
     "name": "stdout",
     "output_type": "stream",
     "text": [
      "0\n",
      "1\n",
      "1\n",
      "0\n",
      "False\n"
     ]
    }
   ],
   "source": [
    "# logical operators -> and , or ,and not\n",
    "print(1 and 0)\n",
    "print(1 and 1)\n",
    "print(1 or 0)\n",
    "print(0 or 0)\n",
    "print(not 1)  # interpreter considerd as false"
   ]
  },
  {
   "cell_type": "code",
   "execution_count": 2,
   "id": "3cddcbaa-1d94-4da4-b16f-e659cc8d8c7e",
   "metadata": {},
   "outputs": [
    {
     "name": "stdout",
     "output_type": "stream",
     "text": [
      "2\n",
      "3\n",
      "1\n",
      "1\n",
      "20\n"
     ]
    }
   ],
   "source": [
    "# Bitwsie operators\n",
    "print(2 & 3)  #bitwise and \n",
    "print (2|3) # bitwise or\n",
    "print( 2^3) # bitwise xor          -> operates on bytes and binary\n",
    "print(4>>2) #left shift\n",
    "print( 5<<2) # right shift   "
   ]
  },
  {
   "cell_type": "code",
   "execution_count": 6,
   "id": "b70a22fa-5148-42bb-91a4-adecc92f4824",
   "metadata": {},
   "outputs": [
    {
     "name": "stdout",
     "output_type": "stream",
     "text": [
      "8\n"
     ]
    }
   ],
   "source": [
    "# assignment operators\n",
    "a=2\n",
    "a +=2\n",
    "a *=2\n",
    "print(a)"
   ]
  },
  {
   "cell_type": "code",
   "execution_count": 10,
   "id": "85078b7d-def1-4d23-899e-45a53aaa02bc",
   "metadata": {},
   "outputs": [
    {
     "name": "stdout",
     "output_type": "stream",
     "text": [
      "True\n",
      "False\n"
     ]
    }
   ],
   "source": [
    "# member ship operator\n",
    "#in / not in\n",
    "print(\"D\" in \"Delhi\")\n",
    "print(\"a\" in \"micro\")"
   ]
  },
  {
   "cell_type": "code",
   "execution_count": 12,
   "id": "8e154919-faa9-4881-a99e-315f81d6a092",
   "metadata": {},
   "outputs": [
    {
     "name": "stdin",
     "output_type": "stream",
     "text": [
      "enter a 3 digit number: 666\n"
     ]
    },
    {
     "name": "stdout",
     "output_type": "stream",
     "text": [
      "18\n"
     ]
    }
   ],
   "source": [
    "# solve a problem\n",
    "n=int(input(\"enter a 3 digit number:\"))\n",
    "a=(n%10)   # 345%10  \n",
    "n=n//10\n",
    "b= n%10    #34%10\n",
    "n=n//10\n",
    "c=n%10     #3%10\n",
    "n=n//10\n",
    "print(a+b+c)"
   ]
  },
  {
   "cell_type": "markdown",
   "id": "7045148f-aa84-42a7-8026-693b54ee5db6",
   "metadata": {},
   "source": [
    "# conditional statements"
   ]
  },
  {
   "cell_type": "code",
   "execution_count": 5,
   "id": "726a3a51-3fd4-4f36-8fb2-6983c6ffd4b0",
   "metadata": {},
   "outputs": [
    {
     "name": "stdin",
     "output_type": "stream",
     "text": [
      "enter a number: 2\n"
     ]
    },
    {
     "name": "stdout",
     "output_type": "stream",
     "text": [
      "even number\n"
     ]
    }
   ],
   "source": [
    "#IF ELIF ELSE\n",
    "n=int(input(\"enter a number:\"))\n",
    "if n%2==0:\n",
    "    print(\"even number\")\n",
    "elif n<0:\n",
    "    print(\"negative number\")\n",
    "elif n%2!=0:\n",
    "    print(\"odd number\")"
   ]
  },
  {
   "cell_type": "code",
   "execution_count": 7,
   "id": "98d79bd5-1ce6-4bad-b4b1-74765edfb7b3",
   "metadata": {},
   "outputs": [
    {
     "name": "stdin",
     "output_type": "stream",
     "text": [
      "enter email: danish@gmail.com\n",
      "enter password: 4545\n"
     ]
    },
    {
     "name": "stdout",
     "output_type": "stream",
     "text": [
      "incorrect password\n"
     ]
    },
    {
     "name": "stdin",
     "output_type": "stream",
     "text": [
      "enter password again: 5656\n"
     ]
    },
    {
     "name": "stdout",
     "output_type": "stream",
     "text": [
      "beta tumse na ho payega\n"
     ]
    }
   ],
   "source": [
    "email=input(\"enter email:\")\n",
    "password=input(\"enter password:\")\n",
    "if email==\"danish@gmail.com\" and password==\"1234\":\n",
    "    print(\"welcome\")\n",
    "elif email==\"danish@gmail.com\" and password!=\"1234\":\n",
    "    print(\"incorrect password\")\n",
    "    password=input(\"enter password again:\")\n",
    "    if password == \"1234\":\n",
    "        print(\"welcome finally\")\n",
    "    else:\n",
    "        print(\"beta tumse na ho payega\")\n",
    "else:\n",
    "    print(\"error\")"
   ]
  },
  {
   "cell_type": "code",
   "execution_count": 13,
   "id": "2809a1b3-7a43-4162-a2b0-b94333b8e109",
   "metadata": {},
   "outputs": [
    {
     "name": "stdin",
     "output_type": "stream",
     "text": [
      "enter 1st num: 1\n",
      "enter 2st num: 2\n",
      "enter 3st num: 3\n"
     ]
    },
    {
     "name": "stdout",
     "output_type": "stream",
     "text": [
      "1  is smallest number\n"
     ]
    }
   ],
   "source": [
    "# find the minimum of 3 number \n",
    "a=int(input(\"enter 1st num:\"))\n",
    "b=int(input(\"enter 2st num:\"))\n",
    "c=int(input(\"enter 3st num:\"))\n",
    "if a<b and a<c:\n",
    "    print(a, \" is smallest number\")\n",
    "elif b<c:\n",
    "    p4rint(b,\"smallest number\")\n",
    "else:\n",
    "    print(c,\"smallest number\")"
   ]
  },
  {
   "cell_type": "code",
   "execution_count": 19,
   "id": "b858e05f-d1bb-452d-b37c-375b86963315",
   "metadata": {},
   "outputs": [
    {
     "name": "stdin",
     "output_type": "stream",
     "text": [
      "enter the 1st num: 6\n",
      "enter the 1st num: 6\n",
      "enter the operation: +\n"
     ]
    },
    {
     "name": "stdout",
     "output_type": "stream",
     "text": [
      "12.0\n"
     ]
    }
   ],
   "source": [
    "# menu driven calculator\n",
    "fn=float(input(\"enter the 1st num:\"))\n",
    "sn=float(input(\"enter the 1st num:\"))\n",
    "op=input(\"enter the operation:\")\n",
    "\n",
    "if op==\"+\":\n",
    "    print(fn+sn)\n",
    "elif op==\"-\":\n",
    "    print(fn-sn)\n",
    "elif op==\"*\":\n",
    "    print(fn*sn)\n",
    "else :\n",
    "    print(fn/sn)"
   ]
  },
  {
   "cell_type": "markdown",
   "id": "ec1efc59-bf00-408a-bf8b-54e908c29fa5",
   "metadata": {},
   "source": [
    "# modules"
   ]
  },
  {
   "cell_type": "code",
   "execution_count": 28,
   "id": "72a9dadf-7a65-4b0e-a3e9-e5cd76193813",
   "metadata": {},
   "outputs": [
    {
     "data": {
      "text/plain": [
       "14.0"
      ]
     },
     "execution_count": 28,
     "metadata": {},
     "output_type": "execute_result"
    }
   ],
   "source": [
    "# math module\n",
    "import math\n",
    "math.factorial(5)\n",
    "math.floor(6.8)\n",
    "math.sqrt(196)"
   ]
  },
  {
   "cell_type": "code",
   "execution_count": 34,
   "id": "1995f116-72e3-410a-883f-3bd650ae6420",
   "metadata": {},
   "outputs": [
    {
     "name": "stdout",
     "output_type": "stream",
     "text": [
      "8\n"
     ]
    }
   ],
   "source": [
    "# random\n",
    "import random\n",
    "print(random.randint(1,10))"
   ]
  },
  {
   "cell_type": "code",
   "execution_count": 38,
   "id": "9586409d-0489-46ad-b71f-24794795ca11",
   "metadata": {},
   "outputs": [
    {
     "name": "stdout",
     "output_type": "stream",
     "text": [
      "2025-02-20 16:28:19.524851\n"
     ]
    }
   ],
   "source": [
    "# datatime\n",
    "import datetime\n",
    "print(datetime.datetime.now())"
   ]
  },
  {
   "cell_type": "markdown",
   "id": "a9d9bfeb-1468-42ff-a810-c8a75acb19de",
   "metadata": {},
   "source": [
    "# loops\n"
   ]
  },
  {
   "cell_type": "code",
   "execution_count": 41,
   "id": "d625428c-7592-4f9b-9319-38558a7476a5",
   "metadata": {},
   "outputs": [],
   "source": [
    "# while loops"
   ]
  },
  {
   "cell_type": "code",
   "execution_count": 43,
   "id": "504c1f75-2b9f-4e9d-9574-07745b806712",
   "metadata": {},
   "outputs": [
    {
     "name": "stdin",
     "output_type": "stream",
     "text": [
      "enter the number: 12\n"
     ]
    },
    {
     "name": "stdout",
     "output_type": "stream",
     "text": [
      "12\n",
      "24\n",
      "36\n",
      "48\n",
      "60\n",
      "72\n",
      "84\n",
      "96\n",
      "108\n",
      "120\n"
     ]
    }
   ],
   "source": [
    "n=int(input(\"enter the number:\"))\n",
    "i=1\n",
    "while i<11:\n",
    "    print(n*i)\n",
    "    i+=1"
   ]
  },
  {
   "cell_type": "code",
   "execution_count": 45,
   "id": "ae96197c-2848-4334-8708-b33cca5d3729",
   "metadata": {},
   "outputs": [
    {
     "name": "stdout",
     "output_type": "stream",
     "text": [
      "1\n",
      "2\n",
      "limit crossed\n"
     ]
    }
   ],
   "source": [
    "x=1\n",
    "while x<3:\n",
    "    print(x)\n",
    "    x+=1\n",
    "else:\n",
    "    print(\"limit crossed\")"
   ]
  },
  {
   "cell_type": "code",
   "execution_count": 47,
   "id": "f045e2fa-5d20-401d-9083-0b80bf40f7a1",
   "metadata": {},
   "outputs": [],
   "source": [
    "# build a guessing game"
   ]
  },
  {
   "cell_type": "code",
   "execution_count": 57,
   "id": "58d9bd95-4989-4571-85b0-914d308e9524",
   "metadata": {},
   "outputs": [
    {
     "name": "stdin",
     "output_type": "stream",
     "text": [
      "enter the number: 6\n"
     ]
    },
    {
     "name": "stdout",
     "output_type": "stream",
     "text": [
      "galat higher\n"
     ]
    },
    {
     "name": "stdin",
     "output_type": "stream",
     "text": [
      "enter the number: 35\n"
     ]
    },
    {
     "name": "stdout",
     "output_type": "stream",
     "text": [
      "guess lower\n"
     ]
    },
    {
     "name": "stdin",
     "output_type": "stream",
     "text": [
      "enter the number: 30\n"
     ]
    },
    {
     "name": "stdout",
     "output_type": "stream",
     "text": [
      "guess lower\n"
     ]
    },
    {
     "name": "stdin",
     "output_type": "stream",
     "text": [
      "enter the number: 25\n"
     ]
    },
    {
     "name": "stdout",
     "output_type": "stream",
     "text": [
      "guess lower\n"
     ]
    },
    {
     "name": "stdin",
     "output_type": "stream",
     "text": [
      "enter the number: 20\n"
     ]
    },
    {
     "name": "stdout",
     "output_type": "stream",
     "text": [
      "guess lower\n"
     ]
    },
    {
     "name": "stdin",
     "output_type": "stream",
     "text": [
      "enter the number: 6\n"
     ]
    },
    {
     "name": "stdout",
     "output_type": "stream",
     "text": [
      "galat higher\n"
     ]
    },
    {
     "name": "stdin",
     "output_type": "stream",
     "text": [
      "enter the number: 15\n"
     ]
    },
    {
     "name": "stdout",
     "output_type": "stream",
     "text": [
      "galat higher\n"
     ]
    },
    {
     "name": "stdin",
     "output_type": "stream",
     "text": [
      "enter the number: 16\n"
     ]
    },
    {
     "name": "stdout",
     "output_type": "stream",
     "text": [
      "galat higher\n"
     ]
    },
    {
     "name": "stdin",
     "output_type": "stream",
     "text": [
      "enter the number: 17\n"
     ]
    },
    {
     "name": "stdout",
     "output_type": "stream",
     "text": [
      "correct guess\n",
      "attempts 9\n"
     ]
    }
   ],
   "source": [
    "import random\n",
    "pot=random.randint(1,50)\n",
    "ip=int(input(\"enter the number:\"))\n",
    "counter=1\n",
    "\n",
    "while ip!=pot:\n",
    "    if ip<pot:\n",
    "        print(\"galat higher\")\n",
    "    else:\n",
    "        print(\"guess lower\")\n",
    "    ip=int(input(\"enter the number:\"))\n",
    "    counter+=1\n",
    "else:\n",
    "    print(\"correct guess\")\n",
    "    print(\"attempts\",counter)"
   ]
  },
  {
   "cell_type": "code",
   "execution_count": 59,
   "id": "1fd06118-3374-4200-a702-a62cb14100d2",
   "metadata": {},
   "outputs": [],
   "source": [
    "# for loop"
   ]
  },
  {
   "cell_type": "code",
   "execution_count": 61,
   "id": "79d1accf-ca7d-4d16-ac76-0bde95dfed26",
   "metadata": {},
   "outputs": [
    {
     "name": "stdout",
     "output_type": "stream",
     "text": [
      "1\n",
      "2\n",
      "3\n",
      "4\n",
      "5\n"
     ]
    }
   ],
   "source": [
    "for i in range (1,6):\n",
    "    print(i)"
   ]
  },
  {
   "cell_type": "code",
   "execution_count": 63,
   "id": "8b941540-b4b6-4d78-9994-8cabec9d332a",
   "metadata": {},
   "outputs": [
    {
     "name": "stdout",
     "output_type": "stream",
     "text": [
      "5\n",
      "4\n",
      "3\n",
      "2\n",
      "1\n"
     ]
    }
   ],
   "source": [
    "for i in range(5,0,-1):\n",
    "    print(i)"
   ]
  },
  {
   "cell_type": "code",
   "execution_count": 65,
   "id": "4668b24f-0049-413b-937c-9a9c28b80aeb",
   "metadata": {},
   "outputs": [
    {
     "name": "stdout",
     "output_type": "stream",
     "text": [
      "D\n",
      "e\n",
      "l\n",
      "h\n",
      "i\n"
     ]
    }
   ],
   "source": [
    "for i in \"Delhi\":\n",
    "    print(i)"
   ]
  },
  {
   "cell_type": "code",
   "execution_count": 69,
   "id": "534fa4dc-e04c-4b08-a86a-e3391d6ec76e",
   "metadata": {},
   "outputs": [
    {
     "name": "stdout",
     "output_type": "stream",
     "text": [
      "10 10000\n",
      "9 9090.90909090909\n",
      "8 8264.462809917353\n",
      "7 7513.148009015775\n",
      "6 6830.134553650703\n",
      "5 6209.213230591548\n",
      "4 5644.739300537771\n",
      "3 5131.5811823070635\n",
      "2 4665.07380209733\n",
      "1 4240.976183724845\n"
     ]
    }
   ],
   "source": [
    "cur=10000\n",
    "for i in range (10,0,-1):\n",
    "    print(i,cur)\n",
    "    cur=cur/1.1"
   ]
  },
  {
   "cell_type": "code",
   "execution_count": 71,
   "id": "dde07f6c-67d6-4518-be16-3f3f25af6a0d",
   "metadata": {},
   "outputs": [],
   "source": [
    "# sequence sum"
   ]
  },
  {
   "cell_type": "code",
   "execution_count": 73,
   "id": "44242abc-c71d-4598-ba04-6a3ff1d998dc",
   "metadata": {},
   "outputs": [
    {
     "name": "stdin",
     "output_type": "stream",
     "text": [
      "number: 3\n"
     ]
    },
    {
     "name": "stdout",
     "output_type": "stream",
     "text": [
      "6.0\n"
     ]
    }
   ],
   "source": [
    "n=int(input(\"number:\"))\n",
    "\n",
    "result=0\n",
    "fact =1\n",
    "for i in range (1,n+1):\n",
    "    fact=fact*1\n",
    "    result =result +i/fact\n",
    "print(result)"
   ]
  },
  {
   "cell_type": "code",
   "execution_count": 75,
   "id": "3e9a001e-da78-4cf6-a9ab-4b60eae01938",
   "metadata": {},
   "outputs": [],
   "source": [
    "# nested loops"
   ]
  },
  {
   "cell_type": "code",
   "execution_count": 81,
   "id": "c0e392a8-dab8-4dce-9428-ef4da76651bb",
   "metadata": {},
   "outputs": [
    {
     "name": "stdout",
     "output_type": "stream",
     "text": [
      "1 1\n",
      "1 2\n",
      "1 3\n",
      "1 4\n",
      "2 1\n",
      "2 2\n",
      "2 3\n",
      "2 4\n",
      "3 1\n",
      "3 2\n",
      "3 3\n",
      "3 4\n",
      "4 1\n",
      "4 2\n",
      "4 3\n",
      "4 4\n"
     ]
    }
   ],
   "source": [
    "for i in range (1,5):\n",
    "    for j in range(1,5):\n",
    "        print(i,j)"
   ]
  },
  {
   "cell_type": "code",
   "execution_count": 87,
   "id": "5e592417-9fc2-4509-9150-02132ba4444d",
   "metadata": {},
   "outputs": [
    {
     "name": "stdin",
     "output_type": "stream",
     "text": [
      "enter the rows: 5\n"
     ]
    },
    {
     "name": "stdout",
     "output_type": "stream",
     "text": [
      "*\n",
      "**\n",
      "***\n",
      "****\n",
      "*****\n"
     ]
    }
   ],
   "source": [
    "n =int(input(\"enter the rows:\"))\n",
    "for i in range (1,n+1):\n",
    "    for j in range (1,i+1):\n",
    "        print(\"*\",end='')\n",
    "    print()"
   ]
  },
  {
   "cell_type": "code",
   "execution_count": 89,
   "id": "7d5547f5-829c-479f-8fea-5d40178317c5",
   "metadata": {},
   "outputs": [
    {
     "name": "stdin",
     "output_type": "stream",
     "text": [
      "enter the rows: 4\n"
     ]
    },
    {
     "name": "stdout",
     "output_type": "stream",
     "text": [
      "1\n",
      "121\n",
      "12321\n",
      "1234321\n"
     ]
    }
   ],
   "source": [
    "n =int(input(\"enter the rows:\"))\n",
    "\n",
    "\n",
    "for i in range (1,n+1):\n",
    "    for j in range(1,i+1):\n",
    "        print(j,end=\"\")\n",
    "    for k in range (i-1,0,-1):\n",
    "        print(k,end=\"\")\n",
    "\n",
    "    print()"
   ]
  },
  {
   "cell_type": "markdown",
   "id": "3a556bbc-e31f-4837-bfd1-b846dc9f838d",
   "metadata": {},
   "source": [
    "# loop control statemts\n",
    "#break,continue,pass"
   ]
  },
  {
   "cell_type": "code",
   "execution_count": 92,
   "id": "8eb6718b-6e98-419a-8578-c705d37b4039",
   "metadata": {},
   "outputs": [
    {
     "name": "stdout",
     "output_type": "stream",
     "text": [
      "1\n",
      "2\n",
      "3\n",
      "4\n"
     ]
    }
   ],
   "source": [
    "for i in range(1,10):\n",
    "    if i==5:\n",
    "        break\n",
    "    print(i)"
   ]
  },
  {
   "cell_type": "code",
   "execution_count": 96,
   "id": "e7bedef5-c212-4746-8f1c-9eada0fcf848",
   "metadata": {},
   "outputs": [
    {
     "name": "stdin",
     "output_type": "stream",
     "text": [
      "enter lower range: 10\n",
      "enter upper range: 20\n"
     ]
    },
    {
     "name": "stdout",
     "output_type": "stream",
     "text": [
      "11\n",
      "13\n",
      "17\n",
      "19\n"
     ]
    }
   ],
   "source": [
    "lower=int(input(\"enter lower range:\"))\n",
    "upper=int(input(\"enter upper range:\"))\n",
    "\n",
    "for i in range(lower,upper+1):\n",
    "    for j in range (2,i):\n",
    "        if i%j==0:\n",
    "            break\n",
    "    else:\n",
    "        print(i)"
   ]
  },
  {
   "cell_type": "code",
   "execution_count": 98,
   "id": "9e6bd99a-c868-49f9-a84e-5e7ef6dd8336",
   "metadata": {},
   "outputs": [],
   "source": [
    "# continue"
   ]
  },
  {
   "cell_type": "code",
   "execution_count": 100,
   "id": "6a1022d3-c224-41b6-bb07-614097f9fac0",
   "metadata": {},
   "outputs": [
    {
     "name": "stdout",
     "output_type": "stream",
     "text": [
      "1\n",
      "2\n",
      "3\n",
      "4\n",
      "6\n",
      "7\n",
      "8\n",
      "9\n"
     ]
    }
   ],
   "source": [
    "for i in range (1,10):\n",
    "    if i==5:\n",
    "        continue\n",
    "    print(i)"
   ]
  },
  {
   "cell_type": "code",
   "execution_count": 102,
   "id": "8cc06440-bfb8-4fcf-b503-bd4b72162336",
   "metadata": {},
   "outputs": [],
   "source": [
    "# pass\n"
   ]
  },
  {
   "cell_type": "code",
   "execution_count": 106,
   "id": "f92b636f-40e1-4534-a839-3f8dda9c15b4",
   "metadata": {},
   "outputs": [],
   "source": [
    "for i in range (1,10):\n",
    "    pass"
   ]
  },
  {
   "cell_type": "code",
   "execution_count": null,
   "id": "78d0e1b3-cac3-48b6-9811-e0ae9fffb6b5",
   "metadata": {},
   "outputs": [],
   "source": []
  }
 ],
 "metadata": {
  "kernelspec": {
   "display_name": "Python [conda env:base] *",
   "language": "python",
   "name": "conda-base-py"
  },
  "language_info": {
   "codemirror_mode": {
    "name": "ipython",
    "version": 3
   },
   "file_extension": ".py",
   "mimetype": "text/x-python",
   "name": "python",
   "nbconvert_exporter": "python",
   "pygments_lexer": "ipython3",
   "version": "3.12.4"
  }
 },
 "nbformat": 4,
 "nbformat_minor": 5
}
