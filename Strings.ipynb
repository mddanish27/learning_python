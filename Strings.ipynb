{
 "cells": [
  {
   "cell_type": "markdown",
   "id": "78ca21b9-6056-46c8-8343-d2df270636c8",
   "metadata": {},
   "source": [
    "# get started with String"
   ]
  },
  {
   "cell_type": "code",
   "execution_count": 9,
   "id": "6d4656db-386f-46f8-a467-26430cbb93e7",
   "metadata": {},
   "outputs": [
    {
     "name": "stdout",
     "output_type": "stream",
     "text": [
      "hello\n",
      "hello\n"
     ]
    }
   ],
   "source": [
    "p=\"hello\" # strings\n",
    "s='''hello'''\n",
    "s=str('hello')\n",
    "print(s)\n",
    "print(p)"
   ]
  },
  {
   "cell_type": "code",
   "execution_count": 11,
   "id": "ccec2fd4-23a7-4593-be11-e3acc2223a41",
   "metadata": {},
   "outputs": [],
   "source": [
    "# Indexing"
   ]
  },
  {
   "cell_type": "code",
   "execution_count": 21,
   "id": "4da60bdb-fd96-4b0b-a19e-8aa3737c0859",
   "metadata": {},
   "outputs": [
    {
     "data": {
      "text/plain": [
       "'h'"
      ]
     },
     "execution_count": 21,
     "metadata": {},
     "output_type": "execute_result"
    }
   ],
   "source": [
    "s=\"hello world !!!\"\n",
    "s[0]"
   ]
  },
  {
   "cell_type": "code",
   "execution_count": 23,
   "id": "07168051-d652-479d-ab7f-2bfeb72ddeff",
   "metadata": {},
   "outputs": [
    {
     "name": "stdout",
     "output_type": "stream",
     "text": [
      "l\n"
     ]
    }
   ],
   "source": [
    "# Negaive indexing\n",
    "a=\"hello\"\n",
    "print(a[-2])"
   ]
  },
  {
   "cell_type": "code",
   "execution_count": 25,
   "id": "2e0386f2-0af2-4d90-8030-be5b4bd6e372",
   "metadata": {},
   "outputs": [],
   "source": [
    "# slicing"
   ]
  },
  {
   "cell_type": "code",
   "execution_count": 29,
   "id": "20c4ddfe-af7a-4005-8274-2c3ce756cca5",
   "metadata": {},
   "outputs": [
    {
     "name": "stdout",
     "output_type": "stream",
     "text": [
      "hell\n"
     ]
    }
   ],
   "source": [
    "s=\"hello world\"\n",
    "print(s[0:4])"
   ]
  },
  {
   "cell_type": "code",
   "execution_count": 31,
   "id": "ce55a186-f01e-492d-b1b4-5bd604827c75",
   "metadata": {},
   "outputs": [
    {
     "name": "stdout",
     "output_type": "stream",
     "text": [
      "hello world\n"
     ]
    }
   ],
   "source": [
    "s=\"hello world\"\n",
    "print(s[0:])"
   ]
  },
  {
   "cell_type": "code",
   "execution_count": 33,
   "id": "f9f93d1b-f2da-4d6a-b31c-76ffff3f672e",
   "metadata": {},
   "outputs": [
    {
     "name": "stdout",
     "output_type": "stream",
     "text": [
      "hell\n"
     ]
    }
   ],
   "source": [
    "s=\"hello world\"\n",
    "print(s[:4])"
   ]
  },
  {
   "cell_type": "code",
   "execution_count": 35,
   "id": "9315c9c2-2fc7-42b4-a5d4-318b736a4dcb",
   "metadata": {},
   "outputs": [
    {
     "name": "stdout",
     "output_type": "stream",
     "text": [
      "hlo\n"
     ]
    }
   ],
   "source": [
    "s=\"hello world\"  \n",
    "print(s[0:6:2])  #step size"
   ]
  },
  {
   "cell_type": "code",
   "execution_count": 41,
   "id": "9f5b46c4-9231-4440-8869-a5fc79eca21a",
   "metadata": {},
   "outputs": [
    {
     "name": "stdout",
     "output_type": "stream",
     "text": [
      "w olle\n"
     ]
    }
   ],
   "source": [
    "s=\"hello world\"\n",
    "print(s[6:0:-1])"
   ]
  },
  {
   "cell_type": "code",
   "execution_count": 43,
   "id": "adae27f1-3314-4f1a-9c01-02687df0f186",
   "metadata": {},
   "outputs": [
    {
     "name": "stdout",
     "output_type": "stream",
     "text": [
      "dlrow olleh\n"
     ]
    }
   ],
   "source": [
    "print(s[::-1])"
   ]
  },
  {
   "cell_type": "code",
   "execution_count": 45,
   "id": "a2db4d1c-37d7-4ae3-8aed-27776b647fcf",
   "metadata": {},
   "outputs": [
    {
     "name": "stdout",
     "output_type": "stream",
     "text": [
      "world\n"
     ]
    }
   ],
   "source": [
    "s=\"hello world\"\n",
    "print(s[-5:])"
   ]
  },
  {
   "cell_type": "code",
   "execution_count": 47,
   "id": "a35c1f28-6a9a-4d5a-9a26-44a15643fbed",
   "metadata": {},
   "outputs": [
    {
     "name": "stdout",
     "output_type": "stream",
     "text": [
      "dlrow\n"
     ]
    }
   ],
   "source": [
    "s=\"hello world\"\n",
    "print(s[-1:-6:-1])"
   ]
  },
  {
   "cell_type": "code",
   "execution_count": 49,
   "id": "a02bc266-f14a-48bb-88dd-0885b3b74953",
   "metadata": {},
   "outputs": [],
   "source": [
    "# editing and deleting the strings"
   ]
  },
  {
   "cell_type": "code",
   "execution_count": 51,
   "id": "6e720b53-f9f0-40d2-9427-b900e1993dd4",
   "metadata": {},
   "outputs": [
    {
     "ename": "NameError",
     "evalue": "name 's' is not defined",
     "output_type": "error",
     "traceback": [
      "\u001b[1;31m---------------------------------------------------------------------------\u001b[0m",
      "\u001b[1;31mNameError\u001b[0m                                 Traceback (most recent call last)",
      "Cell \u001b[1;32mIn[51], line 3\u001b[0m\n\u001b[0;32m      1\u001b[0m s\u001b[38;5;241m=\u001b[39m\u001b[38;5;124m\"\u001b[39m\u001b[38;5;124mhello world\u001b[39m\u001b[38;5;124m\"\u001b[39m\n\u001b[0;32m      2\u001b[0m \u001b[38;5;28;01mdel\u001b[39;00m s\n\u001b[1;32m----> 3\u001b[0m \u001b[38;5;28mprint\u001b[39m(s)\n",
      "\u001b[1;31mNameError\u001b[0m: name 's' is not defined"
     ]
    }
   ],
   "source": [
    "s=\"hello world\"\n",
    "del s"
   ]
  },
  {
   "cell_type": "code",
   "execution_count": 53,
   "id": "0acfcb91-214b-4780-8289-05cdfa65a141",
   "metadata": {},
   "outputs": [
    {
     "ename": "TypeError",
     "evalue": "'str' object does not support item deletion",
     "output_type": "error",
     "traceback": [
      "\u001b[1;31m---------------------------------------------------------------------------\u001b[0m",
      "\u001b[1;31mTypeError\u001b[0m                                 Traceback (most recent call last)",
      "Cell \u001b[1;32mIn[53], line 2\u001b[0m\n\u001b[0;32m      1\u001b[0m s\u001b[38;5;241m=\u001b[39m\u001b[38;5;124m\"\u001b[39m\u001b[38;5;124mhello world\u001b[39m\u001b[38;5;124m\"\u001b[39m\n\u001b[1;32m----> 2\u001b[0m \u001b[38;5;28;01mdel\u001b[39;00m s[\u001b[38;5;241m-\u001b[39m\u001b[38;5;241m1\u001b[39m:\u001b[38;5;241m5\u001b[39m:\u001b[38;5;241m2\u001b[39m]\n\u001b[0;32m      3\u001b[0m \u001b[38;5;28mprint\u001b[39m(s)\n",
      "\u001b[1;31mTypeError\u001b[0m: 'str' object does not support item deletion"
     ]
    }
   ],
   "source": [
    "s=\"hello world\"\n",
    "del s[-1:5:2]\n",
    "print(s)"
   ]
  },
  {
   "cell_type": "code",
   "execution_count": 55,
   "id": "961e4ff4-03d2-4ab2-8d8d-09c82c0ee4a9",
   "metadata": {},
   "outputs": [],
   "source": [
    "# operators on Strings"
   ]
  },
  {
   "cell_type": "code",
   "execution_count": 57,
   "id": "17ecf67d-0680-4bc9-aa42-467fbbd8b133",
   "metadata": {},
   "outputs": [
    {
     "name": "stdout",
     "output_type": "stream",
     "text": [
      "delhigokak\n"
     ]
    }
   ],
   "source": [
    "print(\"delhi\" + \"gokak\")"
   ]
  },
  {
   "cell_type": "code",
   "execution_count": 59,
   "id": "493e4d10-82a8-433a-a655-339e88956a1f",
   "metadata": {},
   "outputs": [
    {
     "name": "stdout",
     "output_type": "stream",
     "text": [
      "irelandirelandirelandirelandireland\n"
     ]
    }
   ],
   "source": [
    "print(\"ireland\" *5)"
   ]
  },
  {
   "cell_type": "code",
   "execution_count": 61,
   "id": "2aefee33-af46-40da-8a09-132a4672e7a8",
   "metadata": {},
   "outputs": [
    {
     "data": {
      "text/plain": [
       "False"
      ]
     },
     "execution_count": 61,
     "metadata": {},
     "output_type": "execute_result"
    }
   ],
   "source": [
    "'delhi'=='mumbai'"
   ]
  },
  {
   "cell_type": "code",
   "execution_count": 63,
   "id": "82f90ba9-70c8-4476-a2f6-204020b3db27",
   "metadata": {},
   "outputs": [
    {
     "data": {
      "text/plain": [
       "True"
      ]
     },
     "execution_count": 63,
     "metadata": {},
     "output_type": "execute_result"
    }
   ],
   "source": [
    "'tumkur' > 'thandi' #lexographically compared"
   ]
  },
  {
   "cell_type": "code",
   "execution_count": 65,
   "id": "6151bb9a-0d8f-4e0a-a5a8-136394f0a703",
   "metadata": {},
   "outputs": [
    {
     "data": {
      "text/plain": [
       "'world'"
      ]
     },
     "execution_count": 65,
     "metadata": {},
     "output_type": "execute_result"
    }
   ],
   "source": [
    "'hello' and 'world'"
   ]
  },
  {
   "cell_type": "code",
   "execution_count": 67,
   "id": "d4ab4220-b508-4f95-afa6-bc0b91f265b9",
   "metadata": {},
   "outputs": [
    {
     "data": {
      "text/plain": [
       "'hello'"
      ]
     },
     "execution_count": 67,
     "metadata": {},
     "output_type": "execute_result"
    }
   ],
   "source": [
    "'hello' or 'world'"
   ]
  },
  {
   "cell_type": "code",
   "execution_count": 69,
   "id": "f8ed31a2-528f-4240-abd4-824680218a08",
   "metadata": {},
   "outputs": [
    {
     "data": {
      "text/plain": [
       "''"
      ]
     },
     "execution_count": 69,
     "metadata": {},
     "output_type": "execute_result"
    }
   ],
   "source": [
    "'' and 'world'"
   ]
  },
  {
   "cell_type": "code",
   "execution_count": 71,
   "id": "3e3d2765-dbda-401c-aeb3-938f0a8e853b",
   "metadata": {},
   "outputs": [
    {
     "data": {
      "text/plain": [
       "'eorld'"
      ]
     },
     "execution_count": 71,
     "metadata": {},
     "output_type": "execute_result"
    }
   ],
   "source": [
    "'' or 'eorld'"
   ]
  },
  {
   "cell_type": "code",
   "execution_count": 73,
   "id": "d0dca173-e6d7-4ff4-a19a-204ce24c43a2",
   "metadata": {},
   "outputs": [
    {
     "data": {
      "text/plain": [
       "True"
      ]
     },
     "execution_count": 73,
     "metadata": {},
     "output_type": "execute_result"
    }
   ],
   "source": [
    "not \"\""
   ]
  },
  {
   "cell_type": "code",
   "execution_count": 75,
   "id": "8ca11036-6738-47fa-91e6-65ba1e8dbe56",
   "metadata": {},
   "outputs": [
    {
     "name": "stdout",
     "output_type": "stream",
     "text": [
      "h\n",
      "e\n",
      "l\n",
      "l\n",
      "o\n"
     ]
    }
   ],
   "source": [
    "for i in 'hello':\n",
    "    print(i)"
   ]
  },
  {
   "cell_type": "code",
   "execution_count": 78,
   "id": "d12a83af-d372-4038-b1fc-4c8a8a52d59d",
   "metadata": {},
   "outputs": [
    {
     "name": "stdout",
     "output_type": "stream",
     "text": [
      "pune\n",
      "pune\n",
      "pune\n",
      "pune\n",
      "pune\n"
     ]
    }
   ],
   "source": [
    "for i in \"delhi\":\n",
    "    print(\"pune\")"
   ]
  },
  {
   "cell_type": "markdown",
   "id": "af8fb21a-9fdf-4ba4-8009-d2ac44d1e05b",
   "metadata": {},
   "source": [
    "# sting function"
   ]
  },
  {
   "cell_type": "code",
   "execution_count": 81,
   "id": "2aef9c09-7f0a-46d9-8d8d-266e345691a9",
   "metadata": {},
   "outputs": [
    {
     "data": {
      "text/plain": [
       "11"
      ]
     },
     "execution_count": 81,
     "metadata": {},
     "output_type": "execute_result"
    }
   ],
   "source": [
    "len(\"hello world\")"
   ]
  },
  {
   "cell_type": "code",
   "execution_count": 83,
   "id": "bab84a6c-3f8d-453f-87fe-1107783da423",
   "metadata": {},
   "outputs": [
    {
     "data": {
      "text/plain": [
       "'o'"
      ]
     },
     "execution_count": 83,
     "metadata": {},
     "output_type": "execute_result"
    }
   ],
   "source": [
    "max(\"hello\")"
   ]
  },
  {
   "cell_type": "code",
   "execution_count": 85,
   "id": "95d4c3f4-7b8b-4af4-977f-90965fe7c375",
   "metadata": {},
   "outputs": [
    {
     "data": {
      "text/plain": [
       "'a'"
      ]
     },
     "execution_count": 85,
     "metadata": {},
     "output_type": "execute_result"
    }
   ],
   "source": [
    "min(\"danish\")"
   ]
  },
  {
   "cell_type": "code",
   "execution_count": 87,
   "id": "77b95721-5f30-47c9-b62a-a4f87a1d2751",
   "metadata": {},
   "outputs": [
    {
     "data": {
      "text/plain": [
       "['a', 'd', 'h', 'i', 'n', 's']"
      ]
     },
     "execution_count": 87,
     "metadata": {},
     "output_type": "execute_result"
    }
   ],
   "source": [
    "sorted(\"danish\")"
   ]
  },
  {
   "cell_type": "code",
   "execution_count": 97,
   "id": "e845894e-20ae-46fa-860b-5d6354447f1b",
   "metadata": {},
   "outputs": [
    {
     "data": {
      "text/plain": [
       "'Hello world'"
      ]
     },
     "execution_count": 97,
     "metadata": {},
     "output_type": "execute_result"
    }
   ],
   "source": [
    "s=\"hello world\"\n",
    "s.capitalize()"
   ]
  },
  {
   "cell_type": "code",
   "execution_count": 99,
   "id": "d411fdc3-6ac2-449f-8e67-2644a129611e",
   "metadata": {},
   "outputs": [
    {
     "data": {
      "text/plain": [
       "'Hello World'"
      ]
     },
     "execution_count": 99,
     "metadata": {},
     "output_type": "execute_result"
    }
   ],
   "source": [
    "s.title()"
   ]
  },
  {
   "cell_type": "code",
   "execution_count": 101,
   "id": "94f0251e-aff1-446a-b7f2-7c1e0e13f9c0",
   "metadata": {},
   "outputs": [
    {
     "data": {
      "text/plain": [
       "'HELLO WORLD'"
      ]
     },
     "execution_count": 101,
     "metadata": {},
     "output_type": "execute_result"
    }
   ],
   "source": [
    "s.upper()"
   ]
  },
  {
   "cell_type": "code",
   "execution_count": 103,
   "id": "2365a855-b63a-4d81-85bc-7e0d137cabdb",
   "metadata": {},
   "outputs": [
    {
     "data": {
      "text/plain": [
       "'hello world'"
      ]
     },
     "execution_count": 103,
     "metadata": {},
     "output_type": "execute_result"
    }
   ],
   "source": [
    "s.lower()"
   ]
  },
  {
   "cell_type": "code",
   "execution_count": 105,
   "id": "b2e10fc3-1640-436b-9e54-308bcf2a6a37",
   "metadata": {},
   "outputs": [
    {
     "data": {
      "text/plain": [
       "'hElLo wORld'"
      ]
     },
     "execution_count": 105,
     "metadata": {},
     "output_type": "execute_result"
    }
   ],
   "source": [
    "\"HeLlO WorLD\".swapcase()"
   ]
  },
  {
   "cell_type": "code",
   "execution_count": 107,
   "id": "470c44b4-2f63-4270-8efd-98c32b40c037",
   "metadata": {},
   "outputs": [
    {
     "data": {
      "text/plain": [
       "3"
      ]
     },
     "execution_count": 107,
     "metadata": {},
     "output_type": "execute_result"
    }
   ],
   "source": [
    "\"mohammed Danish\".count('m')"
   ]
  },
  {
   "cell_type": "code",
   "execution_count": 111,
   "id": "d29499cb-4c5f-4c2c-8830-dc3bcb88f5cf",
   "metadata": {},
   "outputs": [
    {
     "data": {
      "text/plain": [
       "9"
      ]
     },
     "execution_count": 111,
     "metadata": {},
     "output_type": "execute_result"
    }
   ],
   "source": [
    "\"mohammed Danish\" .find(\"Da\")"
   ]
  },
  {
   "cell_type": "code",
   "execution_count": 113,
   "id": "d6887b21-a599-4eac-80fc-7a0e2e88949b",
   "metadata": {},
   "outputs": [
    {
     "data": {
      "text/plain": [
       "6"
      ]
     },
     "execution_count": 113,
     "metadata": {},
     "output_type": "execute_result"
    }
   ],
   "source": [
    "\"mohammed Danish\" .index('e')"
   ]
  },
  {
   "cell_type": "code",
   "execution_count": 115,
   "id": "8e8eb451-d0bc-4765-ba68-3750ec9f8a90",
   "metadata": {},
   "outputs": [
    {
     "data": {
      "text/plain": [
       "True"
      ]
     },
     "execution_count": 115,
     "metadata": {},
     "output_type": "execute_result"
    }
   ],
   "source": [
    "\"mohammed Danish\" .endswith(\"sh\")"
   ]
  },
  {
   "cell_type": "code",
   "execution_count": 119,
   "id": "1e17f95a-fcfc-4180-a5ab-e8e51edc4a36",
   "metadata": {},
   "outputs": [
    {
     "data": {
      "text/plain": [
       "False"
      ]
     },
     "execution_count": 119,
     "metadata": {},
     "output_type": "execute_result"
    }
   ],
   "source": [
    "\"mohammed Danish\" . startswith(\"Da\")"
   ]
  },
  {
   "cell_type": "code",
   "execution_count": 127,
   "id": "6649b122-ee84-4960-8758-eeb1a74222d5",
   "metadata": {},
   "outputs": [
    {
     "data": {
      "text/plain": [
       "'hi , iam durfishean and im female '"
      ]
     },
     "execution_count": 127,
     "metadata": {},
     "output_type": "execute_result"
    }
   ],
   "source": [
    "name=\"durfishean\"\n",
    "gen='female'\n",
    "'hi , iam {} and im {} '.format(name,gen)"
   ]
  },
  {
   "cell_type": "code",
   "execution_count": 129,
   "id": "5551c814-ced9-4d28-bd7a-1f5edbdb006b",
   "metadata": {},
   "outputs": [
    {
     "data": {
      "text/plain": [
       "True"
      ]
     },
     "execution_count": 129,
     "metadata": {},
     "output_type": "execute_result"
    }
   ],
   "source": [
    "'danish123'.isalnum()"
   ]
  },
  {
   "cell_type": "code",
   "execution_count": 131,
   "id": "0fb8b157-d4db-44ac-9713-a7e5bf8e7c3c",
   "metadata": {},
   "outputs": [
    {
     "data": {
      "text/plain": [
       "True"
      ]
     },
     "execution_count": 131,
     "metadata": {},
     "output_type": "execute_result"
    }
   ],
   "source": [
    "'danish'.isalpha()"
   ]
  },
  {
   "cell_type": "code",
   "execution_count": 133,
   "id": "23258621-2c14-4083-b707-077595d31082",
   "metadata": {},
   "outputs": [
    {
     "data": {
      "text/plain": [
       "False"
      ]
     },
     "execution_count": 133,
     "metadata": {},
     "output_type": "execute_result"
    }
   ],
   "source": [
    "'danish123'.isdigit()"
   ]
  },
  {
   "cell_type": "code",
   "execution_count": 135,
   "id": "f14eef17-9438-4276-8b26-5569089ef647",
   "metadata": {},
   "outputs": [
    {
     "data": {
      "text/plain": [
       "True"
      ]
     },
     "execution_count": 135,
     "metadata": {},
     "output_type": "execute_result"
    }
   ],
   "source": [
    "'name'.isidentifier()"
   ]
  },
  {
   "cell_type": "code",
   "execution_count": 137,
   "id": "93e5c065-fc6d-4218-a784-28eca11daf74",
   "metadata": {},
   "outputs": [
    {
     "data": {
      "text/plain": [
       "['hi', 'iam', 'durfisean', 'salem']"
      ]
     },
     "execution_count": 137,
     "metadata": {},
     "output_type": "execute_result"
    }
   ],
   "source": [
    "# split\n",
    "\"hi iam durfisean salem\".split()\n"
   ]
  },
  {
   "cell_type": "code",
   "execution_count": 143,
   "id": "6ef3182d-739c-43a5-a12a-121548e1bb7c",
   "metadata": {},
   "outputs": [
    {
     "data": {
      "text/plain": [
       "'hi-iam-durfisean-salem'"
      ]
     },
     "execution_count": 143,
     "metadata": {},
     "output_type": "execute_result"
    }
   ],
   "source": [
    "\"-\".join(['hi', 'iam', 'durfisean', 'salem'])"
   ]
  },
  {
   "cell_type": "code",
   "execution_count": 147,
   "id": "af7629fb-ea86-441b-b292-911cea1d8e40",
   "metadata": {},
   "outputs": [
    {
     "data": {
      "text/plain": [
       "'hi iam your future girl'"
      ]
     },
     "execution_count": 147,
     "metadata": {},
     "output_type": "execute_result"
    }
   ],
   "source": [
    "# replace\n",
    "\"hi iam danish\".replace(\"danish\", \"your future girl\")"
   ]
  },
  {
   "cell_type": "code",
   "execution_count": 149,
   "id": "b1f4b3e1-4cac-472c-838c-a3d2b04e937d",
   "metadata": {},
   "outputs": [
    {
     "data": {
      "text/plain": [
       "'danish'"
      ]
     },
     "execution_count": 149,
     "metadata": {},
     "output_type": "execute_result"
    }
   ],
   "source": [
    "#strip\n",
    "\"danish      \".strip()"
   ]
  },
  {
   "cell_type": "markdown",
   "id": "76213aa2-7370-4895-a7e0-34b3f2adfb93",
   "metadata": {},
   "source": [
    "# problems on Strings"
   ]
  },
  {
   "cell_type": "code",
   "execution_count": 154,
   "id": "f780e4cc-9680-40a1-9d06-66f9e055e614",
   "metadata": {},
   "outputs": [
    {
     "name": "stdin",
     "output_type": "stream",
     "text": [
      "enter the string hello\n"
     ]
    },
    {
     "name": "stdout",
     "output_type": "stream",
     "text": [
      "length of string: 5\n"
     ]
    }
   ],
   "source": [
    "s=input(\"enter the string\")\n",
    "counter=0\n",
    "for i in s:\n",
    "    counter +=1\n",
    "print(\"length of string:\", counter)"
   ]
  },
  {
   "cell_type": "code",
   "execution_count": 160,
   "id": "5d911c2c-1ca0-4ef9-8cc1-7f90f21be093",
   "metadata": {},
   "outputs": [
    {
     "name": "stdin",
     "output_type": "stream",
     "text": [
      "enter the email danish@gmail.com\n"
     ]
    },
    {
     "name": "stdout",
     "output_type": "stream",
     "text": [
      "danish\n"
     ]
    }
   ],
   "source": [
    "s=input(\"enter the email\")\n",
    "pr=(s.index(\"@\"))\n",
    "print(s[0:pr])"
   ]
  },
  {
   "cell_type": "code",
   "execution_count": 162,
   "id": "905e452b-ef8e-46a6-ab2b-cc41d7c5d997",
   "metadata": {},
   "outputs": [
    {
     "name": "stdin",
     "output_type": "stream",
     "text": [
      "enter the string habbib\n",
      "what would you like to search : b\n"
     ]
    },
    {
     "name": "stdout",
     "output_type": "stream",
     "text": [
      "frequency 3\n"
     ]
    }
   ],
   "source": [
    "s=input(\"enter the string\")\n",
    "term =input(\"what would you like to search :\")\n",
    "\n",
    "counter=0\n",
    "for i in s:\n",
    "    if i==term:\n",
    "        counter +=1\n",
    "print(\"frequency\",counter)"
   ]
  },
  {
   "cell_type": "code",
   "execution_count": 164,
   "id": "21606f35-a142-48e2-8541-8f99d404ec91",
   "metadata": {},
   "outputs": [
    {
     "name": "stdin",
     "output_type": "stream",
     "text": [
      "enter the string danish\n",
      "what would you like to remove : n\n"
     ]
    },
    {
     "name": "stdout",
     "output_type": "stream",
     "text": [
      " daish\n"
     ]
    }
   ],
   "source": [
    "s=input(\"enter the string\")\n",
    "term =input(\"what would you like to remove :\")\n",
    "res=\" \"\n",
    "for i in s:\n",
    "    if i !=term:\n",
    "        res=res+i\n",
    "print(res)"
   ]
  },
  {
   "cell_type": "code",
   "execution_count": 168,
   "id": "0078f3f0-a43e-46b0-b028-6f9132b6b3d5",
   "metadata": {},
   "outputs": [
    {
     "name": "stdin",
     "output_type": "stream",
     "text": [
      "enter the string python\n"
     ]
    },
    {
     "name": "stdout",
     "output_type": "stream",
     "text": [
      "not\n"
     ]
    }
   ],
   "source": [
    "# palindrome or not\n",
    "s=input(\"enter the string\")\n",
    "flag=True\n",
    "for i in range(0,len(s)//2):\n",
    "    if s[i] != s[len(s)-i-1]:\n",
    "        flag=False\n",
    "        break\n",
    "if flag:\n",
    "    print(\"palindrome\")\n",
    "else:\n",
    "    print(\"not\")"
   ]
  },
  {
   "cell_type": "code",
   "execution_count": 174,
   "id": "f2b4d0d4-7aa4-4f25-a5cf-470d20fe3603",
   "metadata": {},
   "outputs": [
    {
     "name": "stdin",
     "output_type": "stream",
     "text": [
      "enter num: 23\n"
     ]
    },
    {
     "name": "stdout",
     "output_type": "stream",
     "text": [
      "23 \n",
      "<class 'str'>\n"
     ]
    }
   ],
   "source": [
    "n=int(input(\"enter num:\"))\n",
    "digit='0123456789'\n",
    "result= \" \"\n",
    "while n !=0:\n",
    "    result=digit[n%10]+result\n",
    "    n=n//10\n",
    "print(result)\n",
    "print(type(result))"
   ]
  },
  {
   "cell_type": "code",
   "execution_count": null,
   "id": "9d14d883-1b6e-406f-a983-33ed5c632da7",
   "metadata": {},
   "outputs": [],
   "source": []
  }
 ],
 "metadata": {
  "kernelspec": {
   "display_name": "Python [conda env:base] *",
   "language": "python",
   "name": "conda-base-py"
  },
  "language_info": {
   "codemirror_mode": {
    "name": "ipython",
    "version": 3
   },
   "file_extension": ".py",
   "mimetype": "text/x-python",
   "name": "python",
   "nbconvert_exporter": "python",
   "pygments_lexer": "ipython3",
   "version": "3.12.4"
  }
 },
 "nbformat": 4,
 "nbformat_minor": 5
}
