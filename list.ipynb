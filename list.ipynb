{
 "cells": [
  {
   "cell_type": "code",
   "execution_count": 1,
   "id": "c946c606-3f88-4b1b-bb81-23801356157a",
   "metadata": {},
   "outputs": [],
   "source": [
    "# list"
   ]
  },
  {
   "cell_type": "code",
   "execution_count": 5,
   "id": "5b1cd410-3baf-49aa-84e3-c708afba955f",
   "metadata": {},
   "outputs": [
    {
     "name": "stdout",
     "output_type": "stream",
     "text": [
      "1\n"
     ]
    }
   ],
   "source": [
    "a=[1,2,3]\n",
    "print(a[0])"
   ]
  },
  {
   "cell_type": "code",
   "execution_count": 2,
   "id": "5a8f9173-7b2e-4265-b516-a09472c7d855",
   "metadata": {},
   "outputs": [],
   "source": [
    "# list is a datatype which can strore multiple items , similar to dynamic arrays, hetrogenous,"
   ]
  },
  {
   "cell_type": "code",
   "execution_count": 4,
   "id": "5e2ae653-6130-4d74-b219-948c86a9b9e3",
   "metadata": {},
   "outputs": [
    {
     "name": "stdout",
     "output_type": "stream",
     "text": [
      "jessa\n"
     ]
    }
   ],
   "source": [
    "l=[20,'jessa',35.6,[30,50]]\n",
    "print(l[1])"
   ]
  },
  {
   "cell_type": "code",
   "execution_count": 10,
   "id": "692ddee0-3196-4727-a218-b716c10958cb",
   "metadata": {},
   "outputs": [
    {
     "name": "stdout",
     "output_type": "stream",
     "text": [
      "20\n",
      "3\n",
      "4\n",
      "3\n"
     ]
    }
   ],
   "source": [
    "l=[20,3,4,3]\n",
    "for i in l:\n",
    "    print(i)"
   ]
  },
  {
   "cell_type": "code",
   "execution_count": 16,
   "id": "9c692c5e-74c2-4d03-9d86-b864c60bd598",
   "metadata": {},
   "outputs": [],
   "source": [
    "# list stores data in forms of Referintal array or more like a pointer\n",
    "# id=print the memory adress"
   ]
  },
  {
   "cell_type": "code",
   "execution_count": 22,
   "id": "61ebf962-3d6e-4bbf-bcfd-d426d124eff3",
   "metadata": {},
   "outputs": [
    {
     "data": {
      "text/plain": [
       "' list are\\nordered,mutable/changeable,hetero,duplictes,dynamic,nested,items \\ncan be accesed,'"
      ]
     },
     "execution_count": 22,
     "metadata": {},
     "output_type": "execute_result"
    }
   ],
   "source": [
    "\"\"\" list are\n",
    "ordered,mutable/changeable,hetero,duplictes,dynamic,nested,items \n",
    "can be accesed,\"\"\" \n",
    " "
   ]
  },
  {
   "cell_type": "code",
   "execution_count": 28,
   "id": "3c986a06-dda2-4d68-ab39-f479b6722702",
   "metadata": {},
   "outputs": [
    {
     "name": "stdout",
     "output_type": "stream",
     "text": [
      "[]\n",
      "[1, 2, 3]\n",
      "[1, 2, 3, [4, 5]]\n",
      "[[1, 23], [1, 4, 5], [34, 54]]\n",
      "[1, 3, 'mike', 4.5]\n",
      "['h', 'e', 'l', 'l', 'o']\n"
     ]
    }
   ],
   "source": [
    "print([])\n",
    "print([1,2,3]) # homo\n",
    "print([1,2,3,[4,5]]) #2d homo\n",
    "print([[1,23],[1,4,5] ,[34,54]]) #3d\n",
    "print([1,3,\"mike\",4.5]) # hetro\n",
    "print(list(\"hello\")) # using type conversion"
   ]
  },
  {
   "cell_type": "code",
   "execution_count": 30,
   "id": "ff52143a-5330-4320-b1d6-a6fd3f43a9f7",
   "metadata": {},
   "outputs": [],
   "source": [
    "# Accesing items from list\n",
    "# Indexing\n",
    "#slicing"
   ]
  },
  {
   "cell_type": "code",
   "execution_count": 46,
   "id": "274e6d4c-7c02-4a56-a6ea-8543000cb45c",
   "metadata": {},
   "outputs": [
    {
     "name": "stdout",
     "output_type": "stream",
     "text": [
      "5\n",
      "44\n",
      "5\n"
     ]
    }
   ],
   "source": [
    "l=[2,4,5,44,56] #postive Indexing\n",
    "print(l[2])\n",
    "print(l[-2]) # negative Indexing\n",
    "\n",
    "m=[[1,23],[1,4,5] ,[34,54]] \n",
    "print(m[1][2])\n",
    "\n"
   ]
  },
  {
   "cell_type": "code",
   "execution_count": 48,
   "id": "9de670b0-14f1-4731-8bf7-1977011daaa3",
   "metadata": {},
   "outputs": [],
   "source": [
    "# slicing"
   ]
  },
  {
   "cell_type": "code",
   "execution_count": 56,
   "id": "7ca013d5-8854-416e-8a3c-bb4b741332af",
   "metadata": {},
   "outputs": [
    {
     "name": "stdout",
     "output_type": "stream",
     "text": [
      "[2, 3, 4]\n",
      "[7, 56, 4, 3, 2, 1]\n"
     ]
    }
   ],
   "source": [
    "l=[1,2,3,4,56,7]\n",
    "print(l[1:4])\n",
    "l=[1,2,3,4,56,7]\n",
    "print(l[::-1])"
   ]
  },
  {
   "cell_type": "code",
   "execution_count": 58,
   "id": "37ff229f-b486-4a4c-b044-00fb413d3338",
   "metadata": {},
   "outputs": [],
   "source": [
    "# Adding istems to list"
   ]
  },
  {
   "cell_type": "code",
   "execution_count": 60,
   "id": "805e03f6-8613-4ce4-b08b-86533e9d7dd5",
   "metadata": {},
   "outputs": [
    {
     "name": "stdout",
     "output_type": "stream",
     "text": [
      "[6, 5, 7, 3, 2, 96, 100]\n"
     ]
    }
   ],
   "source": [
    "l=[6,5,7,3,2,96]\n",
    "l.append(100)\n",
    "print(l)"
   ]
  },
  {
   "cell_type": "code",
   "execution_count": 64,
   "id": "2a6b7a94-d6d6-4d3e-a524-bda756547f51",
   "metadata": {},
   "outputs": [
    {
     "name": "stdout",
     "output_type": "stream",
     "text": [
      "[6, 5, 7, 3, 2, 96, 97, 98, 99, 100]\n"
     ]
    }
   ],
   "source": [
    "l=[6,5,7,3,2,96]\n",
    "l.extend([97,98,99,100])\n",
    "print(l)"
   ]
  },
  {
   "cell_type": "code",
   "execution_count": 66,
   "id": "ff493707-efb7-4221-865b-84aaf8a2a087",
   "metadata": {},
   "outputs": [
    {
     "name": "stdout",
     "output_type": "stream",
     "text": [
      "[1, 2, 3, [5, 4]]\n"
     ]
    }
   ],
   "source": [
    "l=[1,2,3]\n",
    "l.append([5,4])\n",
    "print(l)"
   ]
  },
  {
   "cell_type": "code",
   "execution_count": 68,
   "id": "14d78d8f-1830-48a6-8a19-b8179d3ec1e9",
   "metadata": {},
   "outputs": [
    {
     "name": "stdout",
     "output_type": "stream",
     "text": [
      "[1, 2, 3, 'd', 'e', 'l', 'h', 'i']\n"
     ]
    }
   ],
   "source": [
    "l=[1,2,3]\n",
    "l.extend(\"delhi\")\n",
    "print(l)"
   ]
  },
  {
   "cell_type": "code",
   "execution_count": 70,
   "id": "7f946c97-908a-44bf-8172-ab60d14db4e6",
   "metadata": {},
   "outputs": [
    {
     "name": "stdout",
     "output_type": "stream",
     "text": [
      "[1, 2, 100, 3]\n"
     ]
    }
   ],
   "source": [
    "l=[1,2,3]\n",
    "l.insert(2,100)\n",
    "print(l)"
   ]
  },
  {
   "cell_type": "code",
   "execution_count": 72,
   "id": "2e9c2aa0-7fd8-4402-a4d8-7307013f79e4",
   "metadata": {},
   "outputs": [],
   "source": [
    "#editing a list"
   ]
  },
  {
   "cell_type": "code",
   "execution_count": 76,
   "id": "4c3eb632-4950-4963-ac31-89f605bef697",
   "metadata": {},
   "outputs": [
    {
     "name": "stdout",
     "output_type": "stream",
     "text": [
      "[12, 34, 500]\n"
     ]
    }
   ],
   "source": [
    "l=[12,34,55]\n",
    "l[-1]=500\n",
    "print(l)"
   ]
  },
  {
   "cell_type": "code",
   "execution_count": 78,
   "id": "135e328b-6458-4aee-b615-f1d93cb16b5b",
   "metadata": {},
   "outputs": [
    {
     "name": "stdout",
     "output_type": "stream",
     "text": [
      "[12, 10, 25, 55]\n"
     ]
    }
   ],
   "source": [
    "l=[12,34,55]\n",
    "l[1:2]=[10,25]\n",
    "print(l)"
   ]
  },
  {
   "cell_type": "code",
   "execution_count": 80,
   "id": "eb156f15-5657-49b2-b7f5-acbda5d11212",
   "metadata": {},
   "outputs": [],
   "source": [
    "# Deleting items from the list"
   ]
  },
  {
   "cell_type": "code",
   "execution_count": 86,
   "id": "a741d375-4bf1-4030-ab97-2b95b77ee61d",
   "metadata": {},
   "outputs": [
    {
     "name": "stdout",
     "output_type": "stream",
     "text": [
      "[1, 2, 3, 4, 5]\n",
      "[1, 2, 3, 4]\n",
      "[1, 4]\n"
     ]
    }
   ],
   "source": [
    "# del \n",
    "l=[1,2,3,4,5]\n",
    "print(l)\n",
    "del l[-1]\n",
    "print(l)\n",
    "\n",
    "# slicing\n",
    "del l[1:3]\n",
    "print(l)"
   ]
  },
  {
   "cell_type": "code",
   "execution_count": 88,
   "id": "856429c5-b0fd-43a8-b43a-32fe94b073f2",
   "metadata": {},
   "outputs": [
    {
     "name": "stdout",
     "output_type": "stream",
     "text": [
      "['a', 'b', 'd', 'e']\n"
     ]
    }
   ],
   "source": [
    "# remove -> uses values instead of index\n",
    "l=['a','b','c','d','e']\n",
    "l.remove('c')\n",
    "print(l)"
   ]
  },
  {
   "cell_type": "code",
   "execution_count": 92,
   "id": "6e77b6a1-92b2-43d9-a638-b29fe21b864b",
   "metadata": {},
   "outputs": [
    {
     "name": "stdout",
     "output_type": "stream",
     "text": [
      "['b', 'c', 'd']\n"
     ]
    }
   ],
   "source": [
    "# pop\n",
    "l=['a','b','c','d','e']  #default deletes last item if index is not given\n",
    "l.pop(0)\n",
    "l.pop()\n",
    "print(l)"
   ]
  },
  {
   "cell_type": "code",
   "execution_count": 94,
   "id": "452111dd-a86f-4a5d-8096-38d1433fdbda",
   "metadata": {},
   "outputs": [
    {
     "name": "stdout",
     "output_type": "stream",
     "text": [
      "[]\n"
     ]
    }
   ],
   "source": [
    "# clear \n",
    "l=['a','b','c','d','e']\n",
    "l.clear()\n",
    "print(l)"
   ]
  },
  {
   "cell_type": "markdown",
   "id": "4aa231ba-babe-455b-b617-3f9babb2f47d",
   "metadata": {},
   "source": [
    "# operators on list"
   ]
  },
  {
   "cell_type": "code",
   "execution_count": 97,
   "id": "d6d98b77-6107-4898-9395-6ed6bd0dd8ed",
   "metadata": {},
   "outputs": [],
   "source": [
    "# arithmetic , membership"
   ]
  },
  {
   "cell_type": "code",
   "execution_count": 99,
   "id": "01f9a73c-9ec5-43d0-81ab-b95f15a44098",
   "metadata": {},
   "outputs": [
    {
     "name": "stdout",
     "output_type": "stream",
     "text": [
      "['a', 'b', 'c', 'd', 12, 34, 55]\n"
     ]
    }
   ],
   "source": [
    "l=['a','b','c','d']\n",
    "l1=[12,34,55]\n",
    "print(l+l1)"
   ]
  },
  {
   "cell_type": "code",
   "execution_count": 101,
   "id": "cb5fa857-db39-4b0b-b0dc-92a408b5fa4e",
   "metadata": {},
   "outputs": [
    {
     "name": "stdout",
     "output_type": "stream",
     "text": [
      "['a', 'b', 'c', 'd', 'a', 'b', 'c', 'd']\n"
     ]
    }
   ],
   "source": [
    "print(l*2)"
   ]
  },
  {
   "cell_type": "code",
   "execution_count": 107,
   "id": "0e586557-3a1e-4641-ac96-87a3b739c455",
   "metadata": {},
   "outputs": [
    {
     "name": "stdout",
     "output_type": "stream",
     "text": [
      "False\n",
      "True\n"
     ]
    }
   ],
   "source": [
    "# membership in,not in\n",
    "l1=[12,34,55]\n",
    "l2=[1,2,3]\n",
    "print(12 not in l1)\n",
    "print(2 in l2)"
   ]
  },
  {
   "cell_type": "code",
   "execution_count": 109,
   "id": "3de488d2-5252-4dc2-96d7-6936a848315e",
   "metadata": {},
   "outputs": [
    {
     "name": "stdout",
     "output_type": "stream",
     "text": [
      "12\n",
      "34\n",
      "55\n"
     ]
    }
   ],
   "source": [
    "# loops\n",
    "l1=[12,34,55]\n",
    "l2=[1,2,3]\n",
    "for i in l1:\n",
    "    print(i)"
   ]
  },
  {
   "cell_type": "code",
   "execution_count": 111,
   "id": "6ba61b2a-ee4b-4a33-a771-7245fb1eabf7",
   "metadata": {},
   "outputs": [],
   "source": [
    "# list function , len, min,max,sorted,count,index,revese,sort,copy"
   ]
  },
  {
   "cell_type": "code",
   "execution_count": 115,
   "id": "57a03e4f-b306-4084-a087-6b2e65f9fc7a",
   "metadata": {},
   "outputs": [
    {
     "name": "stdout",
     "output_type": "stream",
     "text": [
      "8\n",
      "1\n",
      "56\n",
      "[1, 3, 4, 12, 33, 34, 55, 56]\n"
     ]
    }
   ],
   "source": [
    "# len\n",
    "l=[12,34,55,33,1,3,4,56]\n",
    "print(len(l))\n",
    "print(min(l))\n",
    "print(max(l))\n",
    "print(sorted(l))"
   ]
  },
  {
   "cell_type": "code",
   "execution_count": 117,
   "id": "590ff153-3886-4249-869f-f2c3e2436b12",
   "metadata": {},
   "outputs": [
    {
     "data": {
      "text/plain": [
       "3"
      ]
     },
     "execution_count": 117,
     "metadata": {},
     "output_type": "execute_result"
    }
   ],
   "source": [
    "# count\n",
    "l=[1,2,1,3,4,1,2,5]\n",
    "l.count(1)"
   ]
  },
  {
   "cell_type": "code",
   "execution_count": 119,
   "id": "ed4b4b60-4e42-4856-be32-d32537bdc37c",
   "metadata": {},
   "outputs": [
    {
     "data": {
      "text/plain": [
       "1"
      ]
     },
     "execution_count": 119,
     "metadata": {},
     "output_type": "execute_result"
    }
   ],
   "source": [
    "l=[1,2,1,3,4,1,2,5]\n",
    "l.index(2)"
   ]
  },
  {
   "cell_type": "code",
   "execution_count": 121,
   "id": "f4c4a6ef-2abc-4399-80ef-9be48b18e7a9",
   "metadata": {},
   "outputs": [
    {
     "name": "stdout",
     "output_type": "stream",
     "text": [
      "[0, 5, 1, 3, 2]\n"
     ]
    }
   ],
   "source": [
    "#reverse\n",
    "l=[2,3,1,5,0]\n",
    "#permantely reverses\n",
    "l.reverse()\n",
    "print(l)"
   ]
  },
  {
   "cell_type": "code",
   "execution_count": 123,
   "id": "d5930a79-8c8d-40a7-81e9-092fe8e6f428",
   "metadata": {},
   "outputs": [
    {
     "name": "stdout",
     "output_type": "stream",
     "text": [
      "[2, 3, 1, 5, 0]\n",
      "[0, 1, 2, 3, 5]\n",
      "[2, 3, 1, 5, 0]\n",
      "[0, 1, 2, 3, 5]\n"
     ]
    }
   ],
   "source": [
    "l=[2,3,1,5,0]\n",
    "print(l)\n",
    "print(sorted(l))\n",
    "print(l)\n",
    "l.sort()\n",
    "print(l)"
   ]
  },
  {
   "cell_type": "code",
   "execution_count": 125,
   "id": "18c18081-9d44-4de5-841a-441f86b71341",
   "metadata": {},
   "outputs": [],
   "source": [
    "# list comprehension"
   ]
  },
  {
   "cell_type": "code",
   "execution_count": 127,
   "id": "3b6d5be8-0e5e-4dad-9677-b07d6cd90b37",
   "metadata": {},
   "outputs": [
    {
     "name": "stdout",
     "output_type": "stream",
     "text": [
      "[1, 2, 3, 4, 5, 6, 7, 8, 9, 10]\n"
     ]
    }
   ],
   "source": [
    "l=[]\n",
    "for i in range(1,11):\n",
    "    l.append(i)\n",
    "print(l)"
   ]
  },
  {
   "cell_type": "code",
   "execution_count": 129,
   "id": "b1e36d12-f052-42d2-b19c-a83209d037c3",
   "metadata": {},
   "outputs": [
    {
     "name": "stdout",
     "output_type": "stream",
     "text": [
      "[1, 2, 3, 4, 5, 6, 7, 8, 9, 10]\n"
     ]
    }
   ],
   "source": [
    "l=[i for i in range(1,11)]\n",
    "print(l)"
   ]
  },
  {
   "cell_type": "code",
   "execution_count": 135,
   "id": "e92cecda-7f55-4c45-a650-5a0e1f2ea260",
   "metadata": {},
   "outputs": [
    {
     "name": "stdout",
     "output_type": "stream",
     "text": [
      "[-3, -9, -12]\n"
     ]
    }
   ],
   "source": [
    "# scalar multiplication\n",
    "v=[1,3,4]\n",
    "s=-3\n",
    "# -3,-9,-12\n",
    "x=[]\n",
    "for i in v:\n",
    "    x.append(i*s)\n",
    "print(x)\n"
   ]
  },
  {
   "cell_type": "code",
   "execution_count": 137,
   "id": "983b6c92-f621-45e4-99fa-0f65da02ba6f",
   "metadata": {},
   "outputs": [
    {
     "data": {
      "text/plain": [
       "[-3, -9, -12]"
      ]
     },
     "execution_count": 137,
     "metadata": {},
     "output_type": "execute_result"
    }
   ],
   "source": [
    "[s*i for i in v]"
   ]
  },
  {
   "cell_type": "code",
   "execution_count": 139,
   "id": "d0b1d6bb-d585-49f8-b497-73679f527555",
   "metadata": {},
   "outputs": [
    {
     "data": {
      "text/plain": [
       "[4, 16, 25]"
      ]
     },
     "execution_count": 139,
     "metadata": {},
     "output_type": "execute_result"
    }
   ],
   "source": [
    "# add squares\n",
    "l=[2,4,5]\n",
    "[i**2 for i in l]"
   ]
  },
  {
   "cell_type": "code",
   "execution_count": 143,
   "id": "ea950e04-0113-42d6-b18c-98428ecc3eb2",
   "metadata": {},
   "outputs": [
    {
     "data": {
      "text/plain": [
       "[5, 10, 15, 20, 25, 30, 35, 40, 45, 50]"
      ]
     },
     "execution_count": 143,
     "metadata": {},
     "output_type": "execute_result"
    }
   ],
   "source": [
    "[i for i in range(1,51) if i%5==0]"
   ]
  },
  {
   "cell_type": "code",
   "execution_count": 153,
   "id": "e514e5a5-d2a9-4f89-96e3-7b1ee2e70628",
   "metadata": {},
   "outputs": [
    {
     "data": {
      "text/plain": [
       "['python', 'php', 'perl']"
      ]
     },
     "execution_count": 153,
     "metadata": {},
     "output_type": "execute_result"
    }
   ],
   "source": [
    "languages=[\"java\",\"python\",\"php\",\"perl\",\"c++\"]\n",
    "[language for language in languages if language.startswith('p')]"
   ]
  },
  {
   "cell_type": "code",
   "execution_count": 157,
   "id": "09a4b0b0-689a-4d4b-9510-d510848be616",
   "metadata": {},
   "outputs": [
    {
     "data": {
      "text/plain": [
       "[5, 6, 7, 8, 10, 12, 14, 16, 15, 18, 21, 24, 20, 24, 28, 32]"
      ]
     },
     "execution_count": 157,
     "metadata": {},
     "output_type": "execute_result"
    }
   ],
   "source": [
    "l=[1,2,3,4]\n",
    "l1=[5,6,7,8]\n",
    "[i*j for i in l for j in l1]"
   ]
  },
  {
   "cell_type": "code",
   "execution_count": 159,
   "id": "ab6d4805-7e22-4ab5-8c8b-45a30243e5c8",
   "metadata": {},
   "outputs": [
    {
     "name": "stdout",
     "output_type": "stream",
     "text": [
      "1\n",
      "2\n",
      "3\n",
      "4\n"
     ]
    }
   ],
   "source": [
    "# travesing through list\n",
    "#itemize\n",
    "l=[1,2,3,4]\n",
    "for i in l:\n",
    "    print(i)"
   ]
  },
  {
   "cell_type": "code",
   "execution_count": 163,
   "id": "f71e842c-0270-4fa3-8e18-6f1cb17d04f5",
   "metadata": {},
   "outputs": [
    {
     "name": "stdout",
     "output_type": "stream",
     "text": [
      "0\n",
      "1\n",
      "2\n",
      "3\n"
     ]
    }
   ],
   "source": [
    "# index\n",
    "l=[1,2,3,4]\n",
    "for i in range(0,len(l)):\n",
    "    print(i)"
   ]
  },
  {
   "cell_type": "code",
   "execution_count": 165,
   "id": "62049867-c4f2-41f8-9501-4f5f2389e6a7",
   "metadata": {},
   "outputs": [],
   "source": [
    "# zip function"
   ]
  },
  {
   "cell_type": "code",
   "execution_count": null,
   "id": "92e63af0-9294-4461-97be-1e236f91cba3",
   "metadata": {},
   "outputs": [],
   "source": []
  }
 ],
 "metadata": {
  "kernelspec": {
   "display_name": "Python [conda env:base] *",
   "language": "python",
   "name": "conda-base-py"
  },
  "language_info": {
   "codemirror_mode": {
    "name": "ipython",
    "version": 3
   },
   "file_extension": ".py",
   "mimetype": "text/x-python",
   "name": "python",
   "nbconvert_exporter": "python",
   "pygments_lexer": "ipython3",
   "version": "3.12.4"
  }
 },
 "nbformat": 4,
 "nbformat_minor": 5
}
